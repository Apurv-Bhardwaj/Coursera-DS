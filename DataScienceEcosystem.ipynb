{
 "cells": [
  {
   "cell_type": "markdown",
   "id": "53598201-abcf-4281-a060-ea336109bb11",
   "metadata": {},
   "source": [
    "# Data Science and Tools Ecosystem"
   ]
  },
  {
   "cell_type": "markdown",
   "id": "3b6275b9-fb1d-4231-9eae-7f065936a30a",
   "metadata": {},
   "source": [
    "**Objectives:**\n",
    "* Scala\n",
    "* Python\n",
    "* IBM Watson\n",
    "* Hadoop\n",
    "* SQL"
   ]
  },
  {
   "cell_type": "markdown",
   "id": "a02492c2-83dc-443a-bf86-7e1f9147f830",
   "metadata": {},
   "source": [
    "In this notebook, Data Science Tools and Ecosystem are summarized.\n"
   ]
  },
  {
   "cell_type": "markdown",
   "id": "65ef7509-d4f2-4c1a-adf2-70d2f9c36944",
   "metadata": {},
   "source": [
    "Some of the popular languages that Data Scientists use are:\n",
    "1.Python\n",
    "2.R\n",
    "3.SQL"
   ]
  },
  {
   "cell_type": "markdown",
   "id": "0c57de89-9d20-4032-b685-9e49cc91edcb",
   "metadata": {},
   "source": [
    "Some of the commonly used libraries used by Data Scientists include:\n",
    "1.Matplotlib\n",
    "2.Keras\n",
    "3.Seaborn"
   ]
  },
  {
   "cell_type": "markdown",
   "id": "453fa39b-b5a9-48ef-9e35-ed3a7be4520d",
   "metadata": {},
   "source": [
    "Below are a few examples of evaluating arithmetic expressions in Python"
   ]
  },
  {
   "cell_type": "code",
   "execution_count": 10,
   "id": "15ebed34-8420-4653-9c75-d79b0e2417cf",
   "metadata": {},
   "outputs": [
    {
     "data": {
      "text/plain": [
       "17"
      ]
     },
     "execution_count": 10,
     "metadata": {},
     "output_type": "execute_result"
    }
   ],
   "source": [
    "#This a simple arithmetic expression to mutiply then add integers\n",
    "(3*4)+5"
   ]
  },
  {
   "cell_type": "code",
   "execution_count": 20,
   "id": "63a28861-3a99-4478-9684-492af30d4315",
   "metadata": {},
   "outputs": [
    {
     "data": {
      "text/plain": [
       "3.3333333333333335"
      ]
     },
     "execution_count": 20,
     "metadata": {},
     "output_type": "execute_result"
    }
   ],
   "source": [
    "#this code will convert 200 minutes into hours by dividing it by 60\n",
    "200 / 60"
   ]
  },
  {
   "cell_type": "markdown",
   "id": "6aed22f9-08a5-472a-b6d8-8426bf6487e3",
   "metadata": {},
   "source": [
    "## Author \n",
    "Apurv Bhardwaj"
   ]
  }
 ],
 "metadata": {
  "kernelspec": {
   "display_name": "Python [conda env:base] *",
   "language": "python",
   "name": "conda-base-py"
  },
  "language_info": {
   "codemirror_mode": {
    "name": "ipython",
    "version": 3
   },
   "file_extension": ".py",
   "mimetype": "text/x-python",
   "name": "python",
   "nbconvert_exporter": "python",
   "pygments_lexer": "ipython3",
   "version": "3.12.7"
  }
 },
 "nbformat": 4,
 "nbformat_minor": 5
}
